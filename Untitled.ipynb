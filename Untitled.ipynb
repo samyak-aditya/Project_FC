{
 "cells": [
  {
   "cell_type": "code",
   "execution_count": null,
   "id": "2f247045-94c9-47b6-9c38-e5744aa723db",
   "metadata": {},
   "outputs": [],
   "source": []
  }
 ],
 "metadata": {
  "kernelspec": {
   "display_name": "",
   "name": ""
  },
  "language_info": {
   "name": ""
  }
 },
 "nbformat": 4,
 "nbformat_minor": 5
}
